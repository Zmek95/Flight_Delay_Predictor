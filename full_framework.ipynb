{
 "cells": [
  {
   "cell_type": "code",
   "execution_count": 1,
   "id": "3a8643c7-e491-4387-bcb9-5db78d43dd14",
   "metadata": {},
   "outputs": [],
   "source": [
    "import pandas as pd\n",
    "import numpy as np \n",
    "import matplotlib.pyplot as plt\n",
    "import seaborn as sns\n",
    "import plotly.graph_objects as go"
   ]
  },
  {
   "cell_type": "code",
   "execution_count": 2,
   "id": "047dc594-edbe-4bb5-bb2d-0bac34af5a74",
   "metadata": {},
   "outputs": [
    {
     "data": {
      "text/html": [
       "<div>\n",
       "<style scoped>\n",
       "    .dataframe tbody tr th:only-of-type {\n",
       "        vertical-align: middle;\n",
       "    }\n",
       "\n",
       "    .dataframe tbody tr th {\n",
       "        vertical-align: top;\n",
       "    }\n",
       "\n",
       "    .dataframe thead th {\n",
       "        text-align: right;\n",
       "    }\n",
       "</style>\n",
       "<table border=\"1\" class=\"dataframe\">\n",
       "  <thead>\n",
       "    <tr style=\"text-align: right;\">\n",
       "      <th></th>\n",
       "      <th>mkt_carrier_fl_num</th>\n",
       "      <th>op_carrier_fl_num</th>\n",
       "      <th>origin_airport_id</th>\n",
       "      <th>dest_airport_id</th>\n",
       "      <th>crs_dep_time</th>\n",
       "      <th>crs_arr_time</th>\n",
       "      <th>crs_elapsed_time</th>\n",
       "      <th>distance</th>\n",
       "      <th>year</th>\n",
       "      <th>month</th>\n",
       "      <th>...</th>\n",
       "      <th>mkt_unique_carrier_AS</th>\n",
       "      <th>mkt_unique_carrier_B6</th>\n",
       "      <th>mkt_unique_carrier_DL</th>\n",
       "      <th>mkt_unique_carrier_F9</th>\n",
       "      <th>mkt_unique_carrier_G4</th>\n",
       "      <th>mkt_unique_carrier_HA</th>\n",
       "      <th>mkt_unique_carrier_NK</th>\n",
       "      <th>mkt_unique_carrier_UA</th>\n",
       "      <th>mkt_unique_carrier_VX</th>\n",
       "      <th>mkt_unique_carrier_WN</th>\n",
       "    </tr>\n",
       "  </thead>\n",
       "  <tbody>\n",
       "    <tr>\n",
       "      <th>0</th>\n",
       "      <td>0.698804</td>\n",
       "      <td>0.698276</td>\n",
       "      <td>-0.258539</td>\n",
       "      <td>0.381238</td>\n",
       "      <td>0.274783</td>\n",
       "      <td>0.261833</td>\n",
       "      <td>-0.771809</td>\n",
       "      <td>-0.762133</td>\n",
       "      <td>-1.018139</td>\n",
       "      <td>1.005961</td>\n",
       "      <td>...</td>\n",
       "      <td>0</td>\n",
       "      <td>0</td>\n",
       "      <td>0</td>\n",
       "      <td>0</td>\n",
       "      <td>0</td>\n",
       "      <td>0</td>\n",
       "      <td>0</td>\n",
       "      <td>1</td>\n",
       "      <td>0</td>\n",
       "      <td>0</td>\n",
       "    </tr>\n",
       "    <tr>\n",
       "      <th>1</th>\n",
       "      <td>-1.159166</td>\n",
       "      <td>-1.158730</td>\n",
       "      <td>-1.348294</td>\n",
       "      <td>-0.911835</td>\n",
       "      <td>-0.011907</td>\n",
       "      <td>0.067798</td>\n",
       "      <td>0.630635</td>\n",
       "      <td>0.534271</td>\n",
       "      <td>-1.018139</td>\n",
       "      <td>1.005961</td>\n",
       "      <td>...</td>\n",
       "      <td>0</td>\n",
       "      <td>0</td>\n",
       "      <td>0</td>\n",
       "      <td>1</td>\n",
       "      <td>0</td>\n",
       "      <td>0</td>\n",
       "      <td>0</td>\n",
       "      <td>0</td>\n",
       "      <td>0</td>\n",
       "      <td>0</td>\n",
       "    </tr>\n",
       "    <tr>\n",
       "      <th>2</th>\n",
       "      <td>-0.200715</td>\n",
       "      <td>-0.200776</td>\n",
       "      <td>-0.891342</td>\n",
       "      <td>0.141585</td>\n",
       "      <td>0.858403</td>\n",
       "      <td>0.724379</td>\n",
       "      <td>0.769490</td>\n",
       "      <td>0.791186</td>\n",
       "      <td>-1.018139</td>\n",
       "      <td>1.005961</td>\n",
       "      <td>...</td>\n",
       "      <td>0</td>\n",
       "      <td>0</td>\n",
       "      <td>0</td>\n",
       "      <td>0</td>\n",
       "      <td>0</td>\n",
       "      <td>0</td>\n",
       "      <td>0</td>\n",
       "      <td>0</td>\n",
       "      <td>0</td>\n",
       "      <td>0</td>\n",
       "    </tr>\n",
       "    <tr>\n",
       "      <th>3</th>\n",
       "      <td>-0.170178</td>\n",
       "      <td>-0.170254</td>\n",
       "      <td>-0.891342</td>\n",
       "      <td>1.443216</td>\n",
       "      <td>1.093898</td>\n",
       "      <td>1.106567</td>\n",
       "      <td>0.491779</td>\n",
       "      <td>0.375390</td>\n",
       "      <td>-1.018139</td>\n",
       "      <td>1.005961</td>\n",
       "      <td>...</td>\n",
       "      <td>0</td>\n",
       "      <td>0</td>\n",
       "      <td>0</td>\n",
       "      <td>0</td>\n",
       "      <td>0</td>\n",
       "      <td>0</td>\n",
       "      <td>0</td>\n",
       "      <td>0</td>\n",
       "      <td>0</td>\n",
       "      <td>0</td>\n",
       "    </tr>\n",
       "    <tr>\n",
       "      <th>4</th>\n",
       "      <td>-1.042909</td>\n",
       "      <td>-1.042533</td>\n",
       "      <td>-0.319335</td>\n",
       "      <td>1.378694</td>\n",
       "      <td>0.229732</td>\n",
       "      <td>1.475036</td>\n",
       "      <td>2.296904</td>\n",
       "      <td>2.756921</td>\n",
       "      <td>-1.018139</td>\n",
       "      <td>1.005961</td>\n",
       "      <td>...</td>\n",
       "      <td>0</td>\n",
       "      <td>0</td>\n",
       "      <td>0</td>\n",
       "      <td>0</td>\n",
       "      <td>0</td>\n",
       "      <td>0</td>\n",
       "      <td>0</td>\n",
       "      <td>1</td>\n",
       "      <td>0</td>\n",
       "      <td>0</td>\n",
       "    </tr>\n",
       "  </tbody>\n",
       "</table>\n",
       "<p>5 rows × 62 columns</p>\n",
       "</div>"
      ],
      "text/plain": [
       "   mkt_carrier_fl_num  op_carrier_fl_num  origin_airport_id  dest_airport_id  \\\n",
       "0            0.698804           0.698276          -0.258539         0.381238   \n",
       "1           -1.159166          -1.158730          -1.348294        -0.911835   \n",
       "2           -0.200715          -0.200776          -0.891342         0.141585   \n",
       "3           -0.170178          -0.170254          -0.891342         1.443216   \n",
       "4           -1.042909          -1.042533          -0.319335         1.378694   \n",
       "\n",
       "   crs_dep_time  crs_arr_time  crs_elapsed_time  distance      year     month  \\\n",
       "0      0.274783      0.261833         -0.771809 -0.762133 -1.018139  1.005961   \n",
       "1     -0.011907      0.067798          0.630635  0.534271 -1.018139  1.005961   \n",
       "2      0.858403      0.724379          0.769490  0.791186 -1.018139  1.005961   \n",
       "3      1.093898      1.106567          0.491779  0.375390 -1.018139  1.005961   \n",
       "4      0.229732      1.475036          2.296904  2.756921 -1.018139  1.005961   \n",
       "\n",
       "   ...  mkt_unique_carrier_AS  mkt_unique_carrier_B6  mkt_unique_carrier_DL  \\\n",
       "0  ...                      0                      0                      0   \n",
       "1  ...                      0                      0                      0   \n",
       "2  ...                      0                      0                      0   \n",
       "3  ...                      0                      0                      0   \n",
       "4  ...                      0                      0                      0   \n",
       "\n",
       "   mkt_unique_carrier_F9  mkt_unique_carrier_G4  mkt_unique_carrier_HA  \\\n",
       "0                      0                      0                      0   \n",
       "1                      1                      0                      0   \n",
       "2                      0                      0                      0   \n",
       "3                      0                      0                      0   \n",
       "4                      0                      0                      0   \n",
       "\n",
       "   mkt_unique_carrier_NK  mkt_unique_carrier_UA  mkt_unique_carrier_VX  \\\n",
       "0                      0                      1                      0   \n",
       "1                      0                      0                      0   \n",
       "2                      0                      0                      0   \n",
       "3                      0                      0                      0   \n",
       "4                      0                      1                      0   \n",
       "\n",
       "   mkt_unique_carrier_WN  \n",
       "0                      0  \n",
       "1                      0  \n",
       "2                      0  \n",
       "3                      0  \n",
       "4                      0  \n",
       "\n",
       "[5 rows x 62 columns]"
      ]
     },
     "execution_count": 2,
     "metadata": {},
     "output_type": "execute_result"
    }
   ],
   "source": [
    "X_df = pd.read_csv('data/train.csv')\n",
    "#X.drop(columns=['Unnamed: 0'], inplace=True)\n",
    "X_df.head()"
   ]
  },
  {
   "cell_type": "code",
   "execution_count": 3,
   "id": "993a70bd-7228-42a3-8edd-4ebcc109712e",
   "metadata": {},
   "outputs": [],
   "source": [
    "# # missing data\n",
    "# total = y.isnull().sum().sort_values(ascending=False)\n",
    "# percent = (y.isnull().sum()/y.isnull().count()).sort_values(ascending=False)\n",
    "# missing_data = pd.concat([total, percent], axis=1, keys=['Total', 'Percent'])\n",
    "# missing_data"
   ]
  },
  {
   "cell_type": "code",
   "execution_count": null,
   "id": "3e896692-c5d1-4623-93b3-75250f0954f5",
   "metadata": {},
   "outputs": [],
   "source": []
  },
  {
   "cell_type": "code",
   "execution_count": null,
   "id": "a4bb3537-e8d6-420a-bca6-1ab4c6d41073",
   "metadata": {},
   "outputs": [],
   "source": []
  },
  {
   "cell_type": "code",
   "execution_count": 4,
   "id": "16c51bd4-29d0-4a87-941b-e8e66594dfa0",
   "metadata": {},
   "outputs": [],
   "source": [
    "y_df = pd.read_csv('data/target.csv')"
   ]
  },
  {
   "cell_type": "code",
   "execution_count": 28,
   "id": "f7850e26-91a9-48e0-8c8c-e748735b9c27",
   "metadata": {
    "tags": []
   },
   "outputs": [
    {
     "data": {
      "text/plain": [
       "['mkt_carrier_fl_num',\n",
       " 'op_carrier_fl_num',\n",
       " 'origin_airport_id',\n",
       " 'dest_airport_id',\n",
       " 'crs_dep_time',\n",
       " 'crs_arr_time',\n",
       " 'crs_elapsed_time',\n",
       " 'distance',\n",
       " 'year',\n",
       " 'month',\n",
       " 'day',\n",
       " 'day_of_week',\n",
       " 'week_of_year',\n",
       " 'crs_dep_hour',\n",
       " 'crs_arr_hour',\n",
       " 'month_avg_arr_delay',\n",
       " 'month_avg_air_time',\n",
       " 'month_avg_carrier_delay',\n",
       " 'month_avg_weather_delay',\n",
       " 'month_avg_nas_delay',\n",
       " 'month_avg_security_delay',\n",
       " 'month_avg_late_aircraft_delay',\n",
       " 'day_of_week_avg_arr_delay',\n",
       " 'day_of_week_avg_air_time',\n",
       " 'day_of_week_avg_carrier_delay',\n",
       " 'day_of_week_avg_weather_delay',\n",
       " 'day_of_week_avg_nas_delay',\n",
       " 'day_of_week_avg_security_delay',\n",
       " 'day_of_week_avg_late_aircraft_delay',\n",
       " 'arr_hour_avg_arr_delay',\n",
       " 'arr_hour_avg_air_time',\n",
       " 'arr_hour_avg_carrier_delay',\n",
       " 'arr_hour_avg_weather_delay',\n",
       " 'arr_hour_avg_nas_delay',\n",
       " 'arr_hour_avg_security_delay',\n",
       " 'arr_hour_avg_late_aircraft_delay',\n",
       " 'origin_total_flights',\n",
       " 'dest_total_flights',\n",
       " 'month_flight_seats',\n",
       " 'month_flight_passengers',\n",
       " 'month_flight_avg_seats',\n",
       " 'month_flight_avg_passengers',\n",
       " 'carrier_month_seats',\n",
       " 'carrier_month_passengers',\n",
       " 'carrier_month_avg_seats',\n",
       " 'carrier_month_avg_passengers',\n",
       " 'month_avg_fuel_comsumption',\n",
       " 'orig_airport_month_flight_seats',\n",
       " 'orig_airport_month_passengers',\n",
       " 'dest_airport_month_flight_seats',\n",
       " 'dest_airport_month_passengers',\n",
       " 'mkt_unique_carrier_AA',\n",
       " 'mkt_unique_carrier_AS',\n",
       " 'mkt_unique_carrier_B6',\n",
       " 'mkt_unique_carrier_DL',\n",
       " 'mkt_unique_carrier_F9',\n",
       " 'mkt_unique_carrier_G4',\n",
       " 'mkt_unique_carrier_HA',\n",
       " 'mkt_unique_carrier_NK',\n",
       " 'mkt_unique_carrier_UA',\n",
       " 'mkt_unique_carrier_VX',\n",
       " 'mkt_unique_carrier_WN']"
      ]
     },
     "execution_count": 28,
     "metadata": {},
     "output_type": "execute_result"
    }
   ],
   "source": [
    "list(X_df.columns)"
   ]
  },
  {
   "cell_type": "code",
   "execution_count": 6,
   "id": "b0a149ce-e8ed-48b6-be04-c12114aef8c8",
   "metadata": {},
   "outputs": [],
   "source": [
    "#final_df, _,= scale_encoder(X)\n",
    "#final_df.head()"
   ]
  },
  {
   "cell_type": "code",
   "execution_count": 7,
   "id": "2146fbd1-f501-4434-a576-4ec63c3db07f",
   "metadata": {},
   "outputs": [
    {
     "data": {
      "text/html": [
       "<div>\n",
       "<style scoped>\n",
       "    .dataframe tbody tr th:only-of-type {\n",
       "        vertical-align: middle;\n",
       "    }\n",
       "\n",
       "    .dataframe tbody tr th {\n",
       "        vertical-align: top;\n",
       "    }\n",
       "\n",
       "    .dataframe thead th {\n",
       "        text-align: right;\n",
       "    }\n",
       "</style>\n",
       "<table border=\"1\" class=\"dataframe\">\n",
       "  <thead>\n",
       "    <tr style=\"text-align: right;\">\n",
       "      <th></th>\n",
       "      <th>arr_delay</th>\n",
       "    </tr>\n",
       "  </thead>\n",
       "  <tbody>\n",
       "    <tr>\n",
       "      <th>0</th>\n",
       "      <td>-20.0</td>\n",
       "    </tr>\n",
       "    <tr>\n",
       "      <th>1</th>\n",
       "      <td>-15.0</td>\n",
       "    </tr>\n",
       "    <tr>\n",
       "      <th>2</th>\n",
       "      <td>-9.0</td>\n",
       "    </tr>\n",
       "    <tr>\n",
       "      <th>3</th>\n",
       "      <td>-1.0</td>\n",
       "    </tr>\n",
       "    <tr>\n",
       "      <th>4</th>\n",
       "      <td>-2.0</td>\n",
       "    </tr>\n",
       "  </tbody>\n",
       "</table>\n",
       "</div>"
      ],
      "text/plain": [
       "   arr_delay\n",
       "0      -20.0\n",
       "1      -15.0\n",
       "2       -9.0\n",
       "3       -1.0\n",
       "4       -2.0"
      ]
     },
     "execution_count": 7,
     "metadata": {},
     "output_type": "execute_result"
    }
   ],
   "source": [
    "y_df.head()"
   ]
  },
  {
   "cell_type": "code",
   "execution_count": 8,
   "id": "1a6e2119-a305-4aa7-9512-0f2f2c574424",
   "metadata": {},
   "outputs": [],
   "source": [
    "from src.modules.models import randforest_reg, ensemble_feature_importance, regmodel_evaluation"
   ]
  },
  {
   "cell_type": "code",
   "execution_count": 9,
   "id": "211bf630-4e59-4e24-b0cb-37d0c4761e96",
   "metadata": {},
   "outputs": [],
   "source": [
    "X = X_df.values\n",
    "y = y_df.values.ravel()"
   ]
  },
  {
   "cell_type": "code",
   "execution_count": 10,
   "id": "3cdf98a8-b479-4a1f-b4b6-bad9b6e04eec",
   "metadata": {},
   "outputs": [
    {
     "name": "stdout",
     "output_type": "stream",
     "text": [
      "(9625, 62) (9625,)\n"
     ]
    }
   ],
   "source": [
    "print(X.shape, y.shape)"
   ]
  },
  {
   "cell_type": "code",
   "execution_count": 11,
   "id": "d70fcad6-c3b3-41f1-85e0-801d0ec240f7",
   "metadata": {},
   "outputs": [],
   "source": [
    "from sklearn.model_selection import train_test_split\n",
    "\n",
    "X_train, X_test, y_train, y_test = train_test_split(X, y, test_size=0.2, random_state=42)\n"
   ]
  },
  {
   "cell_type": "code",
   "execution_count": 12,
   "id": "a7569ca7-2a07-40ba-ab72-3db4c544637a",
   "metadata": {
    "tags": []
   },
   "outputs": [],
   "source": [
    "trained_model = randforest_reg(X_train,y_train)"
   ]
  },
  {
   "cell_type": "code",
   "execution_count": 13,
   "id": "82428a40-4489-4313-80cb-42488cec4ddf",
   "metadata": {},
   "outputs": [
    {
     "name": "stdout",
     "output_type": "stream",
     "text": [
      "{'RandomForest_Reg': RandomForestRegressor(n_jobs=-1)}\n"
     ]
    }
   ],
   "source": [
    "print(trained_model)"
   ]
  },
  {
   "cell_type": "code",
   "execution_count": 14,
   "id": "d13f5225-d976-4956-af67-67c7a97f6916",
   "metadata": {},
   "outputs": [
    {
     "name": "stdout",
     "output_type": "stream",
     "text": [
      "RandomForest_Reg metrics:\n",
      "\tR2 = -0.037893029746824514\n",
      "\tAdjusted R2 = -0.07245230356223975\n",
      "\tRMSE = 46.94602062828296\n",
      "\n",
      "*******************************************************************\n",
      "\n"
     ]
    }
   ],
   "source": [
    "regmodel_evaluation(trained_model, X_test, y_test)"
   ]
  },
  {
   "cell_type": "code",
   "execution_count": 15,
   "id": "3cb4f5cd-eb3b-4968-a5d9-23a4c21c0312",
   "metadata": {},
   "outputs": [
    {
     "data": {
      "image/png": "[encoded data removed]",
      "text/plain": [
       "<Figure size 1440x1800 with 1 Axes>"
      ]
     },
     "metadata": {
      "needs_background": "light"
     },
     "output_type": "display_data"
    }
   ],
   "source": [
    "ensemble_feature_importance(trained_model['RandomForest_Reg'], X_df)"
   ]
  },
  {
   "cell_type": "code",
   "execution_count": 19,
   "id": "b529cd77-ae72-4241-b829-5702b27bbd7a",
   "metadata": {},
   "outputs": [],
   "source": [
    "from src.modules.models import svr_reg"
   ]
  },
  {
   "cell_type": "code",
   "execution_count": 20,
   "id": "b79941d5-c343-4504-a8bb-a212f097c70e",
   "metadata": {},
   "outputs": [],
   "source": [
    "svr = svr_reg(X_train,y_train)"
   ]
  },
  {
   "cell_type": "code",
   "execution_count": 21,
   "id": "efb4a232-0c07-4e4f-b4ff-eb5d235324f7",
   "metadata": {},
   "outputs": [
    {
     "name": "stdout",
     "output_type": "stream",
     "text": [
      "{'LinSVR_Reg': LinearSVR(C=1, epsilon=0.1), 'SVR_Reg': SVR(C=1, coef0=0)}\n"
     ]
    }
   ],
   "source": [
    "print(svr)"
   ]
  },
  {
   "cell_type": "code",
   "execution_count": 23,
   "id": "3416ddf4-a964-4abe-8a8f-e548628a25e5",
   "metadata": {},
   "outputs": [
    {
     "name": "stdout",
     "output_type": "stream",
     "text": [
      "LinSVR_Reg metrics:\n",
      "\tR2 = -0.0027947252990192517\n",
      "\tAdjusted R2 = -0.03618531228534527\n",
      "\tRMSE = 46.145409895460055\n",
      "\n",
      "*******************************************************************\n",
      "\n",
      "SVR_Reg metrics:\n",
      "\tR2 = -0.019382379544545802\n",
      "\tAdjusted R2 = -0.05332529443808065\n",
      "\tRMSE = 46.52549996444142\n",
      "\n",
      "*******************************************************************\n",
      "\n"
     ]
    }
   ],
   "source": [
    "regmodel_evaluation(svr, X_test, y_test)"
   ]
  },
  {
   "cell_type": "code",
   "execution_count": null,
   "id": "ae9ad4db-8e3a-42a5-abf0-9ee9a7bbcc20",
   "metadata": {},
   "outputs": [],
   "source": []
  }
 ],
 "metadata": {
  "kernelspec": {
   "display_name": "Dsci_ws",
   "language": "python",
   "name": "dsci_ws"
  },
  "language_info": {
   "codemirror_mode": {
    "name": "ipython",
    "version": 3
   },
   "file_extension": ".py",
   "mimetype": "text/x-python",
   "name": "python",
   "nbconvert_exporter": "python",
   "pygments_lexer": "ipython3",
   "version": "3.8.10"
  }
 },
 "nbformat": 4,
 "nbformat_minor": 5
}
