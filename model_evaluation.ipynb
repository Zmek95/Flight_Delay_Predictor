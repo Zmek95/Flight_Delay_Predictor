{
 "cells": [
  {
   "cell_type": "markdown",
   "id": "c219c0af-2cd5-4919-aa9a-1bdce79f5366",
   "metadata": {},
   "source": [
    "# All code in this file has been refactored to src/modules/models.py"
   ]
  },
  {
   "cell_type": "code",
   "execution_count": 1,
   "id": "e0317020-83b9-4ac1-9734-712a64290253",
   "metadata": {},
   "outputs": [],
   "source": [
    "import pandas as pd\n",
    "import numpy as np "
   ]
  },
  {
   "cell_type": "code",
   "execution_count": 2,
   "id": "d216fa28-01eb-415f-9c09-e7b6f2c90f8f",
   "metadata": {},
   "outputs": [],
   "source": [
    "from sklearn.datasets import load_diabetes\n",
    "\n",
    "X, y = load_diabetes(return_X_y=True, as_frame=True)"
   ]
  },
  {
   "cell_type": "code",
   "execution_count": 3,
   "id": "76d0d6c6-31e8-4238-a8b3-67cbca9c3d2c",
   "metadata": {},
   "outputs": [
    {
     "data": {
      "text/plain": [
       "pandas.core.frame.DataFrame"
      ]
     },
     "execution_count": 3,
     "metadata": {},
     "output_type": "execute_result"
    }
   ],
   "source": [
    "type(X)"
   ]
  },
  {
   "cell_type": "code",
   "execution_count": 4,
   "id": "ce73e278-678e-4f40-a017-e4215ba3ef5a",
   "metadata": {},
   "outputs": [
    {
     "name": "stdout",
     "output_type": "stream",
     "text": [
      "(442, 10)\n"
     ]
    },
    {
     "data": {
      "text/html": [
       "<div>\n",
       "<style scoped>\n",
       "    .dataframe tbody tr th:only-of-type {\n",
       "        vertical-align: middle;\n",
       "    }\n",
       "\n",
       "    .dataframe tbody tr th {\n",
       "        vertical-align: top;\n",
       "    }\n",
       "\n",
       "    .dataframe thead th {\n",
       "        text-align: right;\n",
       "    }\n",
       "</style>\n",
       "<table border=\"1\" class=\"dataframe\">\n",
       "  <thead>\n",
       "    <tr style=\"text-align: right;\">\n",
       "      <th></th>\n",
       "      <th>age</th>\n",
       "      <th>sex</th>\n",
       "      <th>bmi</th>\n",
       "      <th>bp</th>\n",
       "      <th>s1</th>\n",
       "      <th>s2</th>\n",
       "      <th>s3</th>\n",
       "      <th>s4</th>\n",
       "      <th>s5</th>\n",
       "      <th>s6</th>\n",
       "    </tr>\n",
       "  </thead>\n",
       "  <tbody>\n",
       "    <tr>\n",
       "      <th>0</th>\n",
       "      <td>0.038076</td>\n",
       "      <td>0.050680</td>\n",
       "      <td>0.061696</td>\n",
       "      <td>0.021872</td>\n",
       "      <td>-0.044223</td>\n",
       "      <td>-0.034821</td>\n",
       "      <td>-0.043401</td>\n",
       "      <td>-0.002592</td>\n",
       "      <td>0.019908</td>\n",
       "      <td>-0.017646</td>\n",
       "    </tr>\n",
       "    <tr>\n",
       "      <th>1</th>\n",
       "      <td>-0.001882</td>\n",
       "      <td>-0.044642</td>\n",
       "      <td>-0.051474</td>\n",
       "      <td>-0.026328</td>\n",
       "      <td>-0.008449</td>\n",
       "      <td>-0.019163</td>\n",
       "      <td>0.074412</td>\n",
       "      <td>-0.039493</td>\n",
       "      <td>-0.068330</td>\n",
       "      <td>-0.092204</td>\n",
       "    </tr>\n",
       "    <tr>\n",
       "      <th>2</th>\n",
       "      <td>0.085299</td>\n",
       "      <td>0.050680</td>\n",
       "      <td>0.044451</td>\n",
       "      <td>-0.005671</td>\n",
       "      <td>-0.045599</td>\n",
       "      <td>-0.034194</td>\n",
       "      <td>-0.032356</td>\n",
       "      <td>-0.002592</td>\n",
       "      <td>0.002864</td>\n",
       "      <td>-0.025930</td>\n",
       "    </tr>\n",
       "    <tr>\n",
       "      <th>3</th>\n",
       "      <td>-0.089063</td>\n",
       "      <td>-0.044642</td>\n",
       "      <td>-0.011595</td>\n",
       "      <td>-0.036656</td>\n",
       "      <td>0.012191</td>\n",
       "      <td>0.024991</td>\n",
       "      <td>-0.036038</td>\n",
       "      <td>0.034309</td>\n",
       "      <td>0.022692</td>\n",
       "      <td>-0.009362</td>\n",
       "    </tr>\n",
       "    <tr>\n",
       "      <th>4</th>\n",
       "      <td>0.005383</td>\n",
       "      <td>-0.044642</td>\n",
       "      <td>-0.036385</td>\n",
       "      <td>0.021872</td>\n",
       "      <td>0.003935</td>\n",
       "      <td>0.015596</td>\n",
       "      <td>0.008142</td>\n",
       "      <td>-0.002592</td>\n",
       "      <td>-0.031991</td>\n",
       "      <td>-0.046641</td>\n",
       "    </tr>\n",
       "  </tbody>\n",
       "</table>\n",
       "</div>"
      ],
      "text/plain": [
       "        age       sex       bmi        bp        s1        s2        s3  \\\n",
       "0  0.038076  0.050680  0.061696  0.021872 -0.044223 -0.034821 -0.043401   \n",
       "1 -0.001882 -0.044642 -0.051474 -0.026328 -0.008449 -0.019163  0.074412   \n",
       "2  0.085299  0.050680  0.044451 -0.005671 -0.045599 -0.034194 -0.032356   \n",
       "3 -0.089063 -0.044642 -0.011595 -0.036656  0.012191  0.024991 -0.036038   \n",
       "4  0.005383 -0.044642 -0.036385  0.021872  0.003935  0.015596  0.008142   \n",
       "\n",
       "         s4        s5        s6  \n",
       "0 -0.002592  0.019908 -0.017646  \n",
       "1 -0.039493 -0.068330 -0.092204  \n",
       "2 -0.002592  0.002864 -0.025930  \n",
       "3  0.034309  0.022692 -0.009362  \n",
       "4 -0.002592 -0.031991 -0.046641  "
      ]
     },
     "execution_count": 4,
     "metadata": {},
     "output_type": "execute_result"
    }
   ],
   "source": [
    "print(X.shape)\n",
    "X.head()"
   ]
  },
  {
   "cell_type": "code",
   "execution_count": 5,
   "id": "93274f1f-83d5-4c93-902c-d40ef9b5a173",
   "metadata": {},
   "outputs": [],
   "source": [
    "from sklearn.model_selection import train_test_split\n",
    "\n",
    "X, X_test, y, y_test = train_test_split(X, y, test_size=0.20, random_state=42)"
   ]
  },
  {
   "cell_type": "markdown",
   "id": "04e05d5b-5420-4db7-b791-f9d567c94538",
   "metadata": {},
   "source": [
    "# Modelling & Evaluation"
   ]
  },
  {
   "cell_type": "code",
   "execution_count": 6,
   "id": "38812cee-2a67-413e-abd3-56aafbcd6b23",
   "metadata": {},
   "outputs": [],
   "source": [
    "# function design --> params[], X, y\n",
    "# returns: dicts: models"
   ]
  },
  {
   "cell_type": "code",
   "execution_count": 7,
   "id": "e47b7fd7-c3da-4af6-b943-639d7feafd69",
   "metadata": {},
   "outputs": [],
   "source": [
    "# metrics predict then evaluate\n",
    "# RMSE, R2, Adjusted R2"
   ]
  },
  {
   "cell_type": "code",
   "execution_count": 8,
   "id": "1fa6a881-bd47-40f5-bd47-e1b9ee74a9a8",
   "metadata": {},
   "outputs": [],
   "source": [
    "# Gridsearch in seperate function"
   ]
  },
  {
   "cell_type": "code",
   "execution_count": 9,
   "id": "167ad8dc-9174-4af4-941c-90398f7e4c34",
   "metadata": {},
   "outputs": [],
   "source": [
    "from sklearn.metrics import r2_score\n",
    "def Adjusted_R2(R2, X):\n",
    "    \n",
    "    n = X.shape[0]\n",
    "    p = X.shape[1]\n",
    "    \n",
    "    return 1-(1-R2)*(n-1)/(n-p-1)"
   ]
  },
  {
   "cell_type": "markdown",
   "id": "35faf13a-b95e-4119-a02d-cd317a0fbd37",
   "metadata": {},
   "source": [
    "## Regression"
   ]
  },
  {
   "cell_type": "markdown",
   "id": "ab6d2655-2914-4dd7-8377-bab71d7f24ed",
   "metadata": {},
   "source": [
    "### linear / polynomial regression"
   ]
  },
  {
   "cell_type": "code",
   "execution_count": 10,
   "id": "f4cb1e9c-e3f4-4c9d-a335-dabc9c48e040",
   "metadata": {},
   "outputs": [],
   "source": [
    "## Regular, Ridge, Lasso, poly"
   ]
  },
  {
   "cell_type": "code",
   "execution_count": 11,
   "id": "332a41cd-532d-402d-ac47-8bac03cf82d6",
   "metadata": {},
   "outputs": [],
   "source": [
    "from sklearn.linear_model import LinearRegression, Ridge, Lasso\n",
    "from sklearn.preprocessing import PolynomialFeatures\n",
    "from sklearn.metrics import mean_squared_error"
   ]
  },
  {
   "cell_type": "code",
   "execution_count": 12,
   "id": "c7b3453f-f89e-4be2-9468-61c1b891cb29",
   "metadata": {},
   "outputs": [
    {
     "data": {
      "text/plain": [
       "LinearRegression()"
      ]
     },
     "execution_count": 12,
     "metadata": {},
     "output_type": "execute_result"
    }
   ],
   "source": [
    "# Linear\n",
    "lin_reg = LinearRegression()\n",
    "lin_reg.fit(X,y)\n",
    "\n",
    "# Ridge\n",
    "rdg_reg = Ridge(alpha=1)\n",
    "rdg_reg.fit(X,y)\n",
    "\n",
    "# Lasso\n",
    "las_reg = Lasso(alpha=1)\n",
    "las_reg.fit(X,y)\n",
    "\n",
    "# Polynomial\n",
    "poly = PolynomialFeatures(degree=5)\n",
    "X_poly = poly.fit_transform(X)\n",
    "\n",
    "pol_reg = LinearRegression()\n",
    "pol_reg.fit(X_poly, y)"
   ]
  },
  {
   "cell_type": "markdown",
   "id": "30001ed9-afbb-4424-a3aa-e4f393968d6b",
   "metadata": {},
   "source": [
    "### SVR"
   ]
  },
  {
   "cell_type": "code",
   "execution_count": 13,
   "id": "7897a68c-d159-498b-b576-f5cb837c7792",
   "metadata": {},
   "outputs": [],
   "source": [
    "from sklearn.svm import SVR, LinearSVR"
   ]
  },
  {
   "cell_type": "code",
   "execution_count": 14,
   "id": "e63d588c-b791-4e09-b8d4-a3b49a7e7559",
   "metadata": {},
   "outputs": [
    {
     "data": {
      "text/plain": [
       "SVR(C=1, coef0=0)"
      ]
     },
     "execution_count": 14,
     "metadata": {},
     "output_type": "execute_result"
    }
   ],
   "source": [
    "# Linear SVR\n",
    "lin_svr_reg = LinearSVR(epsilon=0, C=1)\n",
    "lin_svr_reg.fit(X,y)\n",
    "\n",
    "# SVR\n",
    "svr_reg = SVR(kernel='rbf', degree=3, coef0=0, C=1, epsilon=0.1)\n",
    "svr_reg.fit(X,y)"
   ]
  },
  {
   "cell_type": "markdown",
   "id": "d7699f52-2083-4658-873b-13b99520b120",
   "metadata": {},
   "source": [
    "### Random Forest"
   ]
  },
  {
   "cell_type": "code",
   "execution_count": 15,
   "id": "7569088a-8530-452c-80a3-4dcb2f3f3496",
   "metadata": {},
   "outputs": [],
   "source": [
    "from sklearn.ensemble import RandomForestRegressor"
   ]
  },
  {
   "cell_type": "code",
   "execution_count": 16,
   "id": "a4e00ef3-714a-42d5-8c38-6dd8e8ec9906",
   "metadata": {},
   "outputs": [
    {
     "data": {
      "text/plain": [
       "RandomForestRegressor(n_jobs=-1)"
      ]
     },
     "execution_count": 16,
     "metadata": {},
     "output_type": "execute_result"
    }
   ],
   "source": [
    "rf_reg = RandomForestRegressor(n_estimators=100, criterion='mse', max_depth=None, n_jobs=-1)\n",
    "rf_reg.fit(X,y)"
   ]
  },
  {
   "cell_type": "markdown",
   "id": "a38ed039-0300-413a-9a5e-cd348bea659d",
   "metadata": {},
   "source": [
    "### Gradient Boost"
   ]
  },
  {
   "cell_type": "code",
   "execution_count": 17,
   "id": "09d77c94-fb21-47a7-b163-d561b212d05d",
   "metadata": {},
   "outputs": [],
   "source": [
    "from sklearn.ensemble import GradientBoostingRegressor"
   ]
  },
  {
   "cell_type": "code",
   "execution_count": 18,
   "id": "b9a3550f-d2c3-4dcb-8d93-ca1e7ca5f47c",
   "metadata": {},
   "outputs": [
    {
     "data": {
      "text/plain": [
       "GradientBoostingRegressor()"
      ]
     },
     "execution_count": 18,
     "metadata": {},
     "output_type": "execute_result"
    }
   ],
   "source": [
    "gd_reg = GradientBoostingRegressor(loss='ls', learning_rate=0.1, n_estimators=100, max_depth=3, alpha=0.9)\n",
    "gd_reg.fit(X, y)"
   ]
  },
  {
   "cell_type": "markdown",
   "id": "463e08b5-bc7e-4cf0-a782-09bb48774a97",
   "metadata": {},
   "source": [
    "### XGBoost"
   ]
  },
  {
   "cell_type": "code",
   "execution_count": 19,
   "id": "c1f6285c-d1d4-4f9c-82fd-61ae9fda4342",
   "metadata": {},
   "outputs": [],
   "source": [
    "import xgboost as xgb\n",
    "from xgboost import XGBRegressor"
   ]
  },
  {
   "cell_type": "code",
   "execution_count": 20,
   "id": "7a2f953b-5b65-464d-8639-98841c70264d",
   "metadata": {},
   "outputs": [],
   "source": [
    "#data_dmatrix = xgb.DMatrix(data=X,label=y)"
   ]
  },
  {
   "cell_type": "code",
   "execution_count": 21,
   "id": "f67b9454-8337-4147-af8f-0a80ca1768f6",
   "metadata": {},
   "outputs": [
    {
     "data": {
      "text/plain": [
       "XGBRegressor(base_score=0.5, booster='gbtree', colsample_bylevel=1,\n",
       "             colsample_bynode=1, colsample_bytree=1, gamma=0, gpu_id=-1,\n",
       "             importance_type='gain', interaction_constraints='',\n",
       "             learning_rate=0.3, max_delta_step=0, max_depth=6,\n",
       "             min_child_weight=1, missing=nan, monotone_constraints='()',\n",
       "             n_estimators=100, n_jobs=12, num_parallel_tree=1, random_state=0,\n",
       "             reg_alpha=0, reg_lambda=1, scale_pos_weight=1, subsample=1,\n",
       "             tree_method='exact', validate_parameters=1, verbosity=None)"
      ]
     },
     "execution_count": 21,
     "metadata": {},
     "output_type": "execute_result"
    }
   ],
   "source": [
    "xgb_reg = xgb.XGBRegressor(n_estimators=100, max_depth=6, learning_rate=0.3, gamma=0, reg_lambda=1, reg_alpha=0)\n",
    "xgb_reg.fit(X,y)"
   ]
  },
  {
   "cell_type": "markdown",
   "id": "e75af6c5-16e2-4323-9707-675956bfb9de",
   "metadata": {},
   "source": [
    "# Metrics"
   ]
  },
  {
   "cell_type": "code",
   "execution_count": 22,
   "id": "d78128b1-8e6e-4daa-a549-fb91fa687440",
   "metadata": {},
   "outputs": [],
   "source": [
    "test_dict = {\"LinReg\": lin_reg, \"Ridge\": rdg_reg}"
   ]
  },
  {
   "cell_type": "code",
   "execution_count": 23,
   "id": "2c44fff0-b7c9-470c-86cf-2de895cc1c53",
   "metadata": {},
   "outputs": [],
   "source": [
    "# Metrics\n",
    "def regmodel_evaluation(model_dict, X_test, y_test):\n",
    "    \n",
    "    for key, value in model_dict.items():\n",
    "        \n",
    "        y_pred = value.predict(X_test)\n",
    "        \n",
    "        #metrics\n",
    "        R2 = r2_score(y_test, y_pred)\n",
    "        Adj_R2 = Adjusted_R2(R2, X_test)\n",
    "        RMSE = mean_squared_error(y_test, y_pred, squared=False)\n",
    "        \n",
    "        print(f\"{key} metrics:\\n\\tR2 = {R2}\\n\\tAdjusted R2 = {Adj_R2}\\n\\tRMSE = {RMSE}\\n\")\n",
    "        print(\"*******************************************************************\\n\")"
   ]
  },
  {
   "cell_type": "code",
   "execution_count": 24,
   "id": "17592d77-9382-4a0e-9945-3242cf13c79f",
   "metadata": {},
   "outputs": [
    {
     "name": "stdout",
     "output_type": "stream",
     "text": [
      "LinReg metrics:\n",
      "\tR2 = 0.45260660216173787\n",
      "\tAdjusted R2 = 0.38242796141324276\n",
      "\tRMSE = 53.8532569849144\n",
      "\n",
      "*******************************************************************\n",
      "\n",
      "Ridge metrics:\n",
      "\tR2 = 0.4191532397912693\n",
      "\tAdjusted R2 = 0.3446857064311756\n",
      "\tRMSE = 55.47444707448727\n",
      "\n",
      "*******************************************************************\n",
      "\n"
     ]
    }
   ],
   "source": [
    "regmodel_evaluation(test_dict, X_test, y_test)"
   ]
  },
  {
   "cell_type": "code",
   "execution_count": 25,
   "id": "efd6d603-d671-472d-83ca-304ff8b30f3a",
   "metadata": {},
   "outputs": [],
   "source": [
    "import seaborn as sns\n",
    "import matplotlib.pyplot as plt"
   ]
  },
  {
   "cell_type": "code",
   "execution_count": 26,
   "id": "782cf7db-cbeb-4acc-83e2-d563c1fef51d",
   "metadata": {},
   "outputs": [],
   "source": [
    "def ensemble_feature_importance(model, X):\n",
    "    \n",
    "    feature_imp = pd.Series(model.feature_importances_,index=X.columns).sort_values(ascending=False)\n",
    "    feature_imp = feature_imp[feature_imp > 0.01]\n",
    "    \n",
    "    # Creating a bar plot\n",
    "    sns.barplot(x=feature_imp, y=feature_imp.index)\n",
    "    # Add labels to your graph\n",
    "    plt.rcParams['figure.figsize'] = [8, 10]\n",
    "    plt.xlabel('Feature Importance Score')\n",
    "    plt.ylabel('Features')\n",
    "    plt.title(\"Visualizing Important Features\")\n",
    "    plt.show()"
   ]
  },
  {
   "cell_type": "code",
   "execution_count": 27,
   "id": "1e6e835e-cb72-44e2-b023-8a226d2f9edb",
   "metadata": {},
   "outputs": [
    {
     "data": {
      "image/png": "[encoded data removed]",
      "text/plain": [
       "<Figure size 432x288 with 1 Axes>"
      ]
     },
     "metadata": {
      "needs_background": "light"
     },
     "output_type": "display_data"
    }
   ],
   "source": [
    "ensemble_feature_importance(xgb_reg, X)"
   ]
  },
  {
   "cell_type": "markdown",
   "id": "87c6433c-aa29-4a46-85ea-6f296d735a4a",
   "metadata": {},
   "source": [
    "# Grid search generalized function"
   ]
  },
  {
   "cell_type": "code",
   "execution_count": 29,
   "id": "5ef827ce-c2d0-46ea-82db-f7c8e7d4abbc",
   "metadata": {},
   "outputs": [],
   "source": [
    "import numpy as np\n",
    "from sklearn.model_selection import GridSearchCV\n",
    "from sklearn import datasets, svm\n",
    "import matplotlib.pyplot as plt"
   ]
  },
  {
   "cell_type": "code",
   "execution_count": 30,
   "id": "e0dcecb1-2a42-4137-8e64-25bbf283f46a",
   "metadata": {},
   "outputs": [
    {
     "data": {
      "text/plain": [
       "array([[ 0.,  0.,  5., 13.,  9.,  1.,  0.,  0.,  0.,  0., 13., 15., 10.,\n",
       "        15.,  5.,  0.,  0.,  3., 15.,  2.,  0., 11.,  8.,  0.,  0.,  4.,\n",
       "        12.,  0.,  0.,  8.,  8.,  0.,  0.,  5.,  8.,  0.,  0.,  9.,  8.,\n",
       "         0.,  0.,  4., 11.,  0.,  1., 12.,  7.,  0.,  0.,  2., 14.,  5.,\n",
       "        10., 12.,  0.,  0.,  0.,  0.,  6., 13., 10.,  0.,  0.,  0.]])"
      ]
     },
     "execution_count": 30,
     "metadata": {},
     "output_type": "execute_result"
    }
   ],
   "source": [
    "# Load the digit data\n",
    "digits = datasets.load_digits()\n",
    "# View the features of the first observation\n",
    "digits.data[0:1]"
   ]
  },
  {
   "cell_type": "code",
   "execution_count": 31,
   "id": "b4b61ea9-54b3-4288-b1fe-250ee94c187c",
   "metadata": {},
   "outputs": [
    {
     "data": {
      "text/plain": [
       "array([0])"
      ]
     },
     "execution_count": 31,
     "metadata": {},
     "output_type": "execute_result"
    }
   ],
   "source": [
    "# View the target of the first observation\n",
    "digits.target[0:1]"
   ]
  },
  {
   "cell_type": "code",
   "execution_count": 32,
   "id": "ffd87be9-d4de-42d5-b732-a168f0b5069c",
   "metadata": {},
   "outputs": [],
   "source": [
    "# Create dataset 1\n",
    "data1_features = digits.data[:1000]\n",
    "data1_target = digits.target[:1000]\n",
    "\n",
    "# Create dataset 2\n",
    "data2_features = digits.data[1000:]\n",
    "data2_target = digits.target[1000:]"
   ]
  },
  {
   "cell_type": "code",
   "execution_count": 33,
   "id": "e750e785-26a8-4966-bae3-11b857deece3",
   "metadata": {},
   "outputs": [],
   "source": [
    "parameter_candidates = [\n",
    "  {'C': [1, 10, 100, 1000], 'kernel': ['linear']},\n",
    "  {'C': [1, 10, 100, 1000], 'gamma': [0.001, 0.0001], 'kernel': ['rbf']},\n",
    "]"
   ]
  },
  {
   "cell_type": "code",
   "execution_count": 35,
   "id": "9929b108-ce38-40fb-a985-41cb54dc2423",
   "metadata": {},
   "outputs": [
    {
     "data": {
      "text/plain": [
       "GridSearchCV(estimator=SVC(), n_jobs=-1,\n",
       "             param_grid=[{'C': [1, 10, 100, 1000], 'kernel': ['linear']},\n",
       "                         {'C': [1, 10, 100, 1000], 'gamma': [0.001, 0.0001],\n",
       "                          'kernel': ['rbf']}])"
      ]
     },
     "execution_count": 35,
     "metadata": {},
     "output_type": "execute_result"
    }
   ],
   "source": [
    "# Create a classifier object with the classifier and parameter candidates\n",
    "clf = GridSearchCV(estimator=svm.SVC(), param_grid=parameter_candidates, n_jobs=-1)\n",
    "\n",
    "# Train the classifier on data1's feature and target data\n",
    "clf.fit(data1_features, data1_target)"
   ]
  },
  {
   "cell_type": "code",
   "execution_count": 36,
   "id": "8a3dd92f-9836-461d-8184-d20f97121cc4",
   "metadata": {},
   "outputs": [
    {
     "name": "stdout",
     "output_type": "stream",
     "text": [
      "Best score for data1: 0.966\n"
     ]
    }
   ],
   "source": [
    "# View the accuracy score\n",
    "print('Best score for data1:', clf.best_score_) "
   ]
  },
  {
   "cell_type": "code",
   "execution_count": 40,
   "id": "f9ddd461-0cea-4d47-ae4b-31e959f9c474",
   "metadata": {},
   "outputs": [
    {
     "name": "stdout",
     "output_type": "stream",
     "text": [
      "Best C: {'C': 10, 'gamma': 0.001, 'kernel': 'rbf'}\n",
      "Best C: 10\n",
      "Best Kernel: rbf\n",
      "Best Gamma: 0.001\n"
     ]
    }
   ],
   "source": [
    "# View the best parameters for the model found using grid search\n",
    "print('Best C:',clf.best_params_) \n",
    "print('Best C:',clf.best_estimator_.C) \n",
    "print('Best Kernel:',clf.best_estimator_.kernel)\n",
    "print('Best Gamma:',clf.best_estimator_.gamma)\n"
   ]
  },
  {
   "cell_type": "code",
   "execution_count": 41,
   "id": "e9d3a6ba-c7fc-4720-8083-42c45545a587",
   "metadata": {},
   "outputs": [],
   "source": [
    "# Example of RandomizedGridsearchCv\n",
    "# parameter_distributions = {'n_estimators': list(range(100, 501, 25)), 'max_depth': depth_list}\n",
    "# clf_rand = RandomizedSearchCV(estimator=RandomForestClassifier(), param_distributions=parameter_distributions, n_iter=100, n_jobs=-1)"
   ]
  },
  {
   "cell_type": "code",
   "execution_count": null,
   "id": "adf04214-bdfd-4978-af05-a7afbb55850d",
   "metadata": {},
   "outputs": [],
   "source": []
  }
 ],
 "metadata": {
  "kernelspec": {
   "display_name": "Dsci_ws",
   "language": "python",
   "name": "dsci_ws"
  },
  "language_info": {
   "codemirror_mode": {
    "name": "ipython",
    "version": 3
   },
   "file_extension": ".py",
   "mimetype": "text/x-python",
   "name": "python",
   "nbconvert_exporter": "python",
   "pygments_lexer": "ipython3",
   "version": "3.8.10"
  }
 },
 "nbformat": 4,
 "nbformat_minor": 5
}
