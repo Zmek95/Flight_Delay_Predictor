{
 "cells": [
  {
   "cell_type": "code",
   "execution_count": 1,
   "id": "f8afc287-79a3-4efb-b1cf-7dcfdcd2e353",
   "metadata": {},
   "outputs": [],
   "source": [
    "import pandas as pd\n",
    "import os\n",
    "import requests as re\n",
    "import json\n",
    "import sqlite3\n",
    "from sqlite3 import Error\n",
    "from pprint import pprint"
   ]
  },
  {
   "cell_type": "code",
   "execution_count": 2,
   "id": "8b384f39-956e-4d59-b43c-e34f7229d3ce",
   "metadata": {},
   "outputs": [],
   "source": [
    "#set the keys\n",
    "wwo_key = os.environ[\"WWO_API_KEY\"]"
   ]
  },
  {
   "cell_type": "code",
   "execution_count": 3,
   "id": "b2fd55d1-b185-4f70-9690-c7fa5b850380",
   "metadata": {},
   "outputs": [],
   "source": [
    "def wwo_histweather(IATA_code, month, year):\n",
    "    \n",
    "    start_date = f'{year}-{month:02}-01'\n",
    "    \n",
    "    if month == 2:\n",
    "        end_date = f'{year}-{month:02}-28'\n",
    "    elif month in [1, 3, 5, 7, 8, 10, 12]:\n",
    "         end_date = f'{year}-{month:02}-31'\n",
    "    else:\n",
    "        end_date = f'{year}-{month:02}-30'\n",
    "    \n",
    "\n",
    "    url_base = \"http://api.worldweatheronline.com/premium/v1/past-weather.ashx\"\n",
    "    url = url_base+\"?key=\"+wwo_key+\"&q=\"+IATA_code+\"&format=json\"+\"&date=\"+start_date+\"&enddate=\"+end_date+\"&tp=24\"\n",
    "\n",
    "    res = re.get(url)\n",
    "    res.raise_for_status()\n",
    "    \n",
    "    return res.json()"
   ]
  },
  {
   "cell_type": "code",
   "execution_count": 4,
   "id": "ecb2a027-4023-4151-9478-21b9d08495b3",
   "metadata": {},
   "outputs": [],
   "source": [
    "def wwo_hwparser(monthly_weather, IATA_code):\n",
    "    \n",
    "    \n",
    "    weather_info_list = []\n",
    "     \n",
    "    \n",
    "    for day in monthly_weather['data']['weather']:\n",
    "        \n",
    "        weather_info = {'IATA_code': f\"\\'{IATA_code}\\'\"}\n",
    "        \n",
    "        weather_info['date'] = f\"\\'{day['date']}\\'\"\n",
    "        weather_info['min_temp'] = day['mintempC']\n",
    "        weather_info['max_temp'] = day['maxtempC']\n",
    "        weather_info['avg_temp'] = day['avgtempC']\n",
    "        weather_info['total_snow_cm'] = day['totalSnow_cm']\n",
    "        weather_info['windspeed_kmph'] = day['hourly'][0]['windspeedKmph']\n",
    "        weather_info['precipitation_mm'] = day['hourly'][0]['precipMM']\n",
    "        weather_info['humidity'] = day['hourly'][0]['humidity']\n",
    "        weather_info['visibility'] = day['hourly'][0]['visibility']\n",
    "        weather_info['cloud_cover'] = day['hourly'][0]['cloudcover']\n",
    "        weather_info['heat_index_c'] = day['hourly'][0]['HeatIndexC']\n",
    "        weather_info['wind_chill_c'] = day['hourly'][0]['WindChillC']\n",
    "        weather_info['wind_gust_kmph'] = day['hourly'][0]['WindGustKmph']\n",
    "        weather_info['feels_like'] = day['hourly'][0]['FeelsLikeC']\n",
    "        weather_info['weather_description'] = f\"\\'{day['hourly'][0]['weatherDesc'][0]['value']}\\'\"\n",
    "        weather_info['pressure'] = day['hourly'][0]['pressure']\n",
    "        \n",
    "        weather_info_list.append(weather_info)\n",
    "    \n",
    "    return weather_info_list"
   ]
  },
  {
   "cell_type": "code",
   "execution_count": 5,
   "id": "fb674c75-b792-405f-8f35-3cbc9a323a02",
   "metadata": {
    "tags": []
   },
   "outputs": [],
   "source": [
    "def wwo_years(IATA_code):\n",
    "    \n",
    "    year = 2018\n",
    "    weather_years = []\n",
    "    \n",
    "    try:\n",
    "        for n in range(0,25):\n",
    "\n",
    "            month = (n%12)+1\n",
    "\n",
    "            # Extract weather data for a month for an airport \n",
    "            monthly_weather = wwo_histweather(IATA_code, month, year)\n",
    "            # Parse data\n",
    "            weather_info_list = wwo_hwparser(monthly_weather, IATA_code)\n",
    "\n",
    "            weather_years.append(weather_info_list)\n",
    "\n",
    "            if month == 12:\n",
    "                year += 1\n",
    "    \n",
    "    except re.HTTPError:\n",
    "        print(\"HTTPError was raised!\")\n",
    "    \n",
    "    return weather_years  #list of lists of dicts: month --> days "
   ]
  },
  {
   "cell_type": "markdown",
   "id": "6251773b-66a2-40c8-8fcb-686f8c7d17ec",
   "metadata": {},
   "source": [
    "# Insert into SQLite database"
   ]
  },
  {
   "cell_type": "code",
   "execution_count": 6,
   "id": "69e99716-cc4d-4d8f-b594-b24d1d877ab9",
   "metadata": {
    "tags": []
   },
   "outputs": [],
   "source": [
    "def create_connection(path):\n",
    "    connection = None\n",
    "    try:\n",
    "        connection = sqlite3.connect(path)\n",
    "        print(\"Connection to SQLite DB successful\")\n",
    "    except Error as e:\n",
    "        print(f\"The error '{e}' occurred\")\n",
    "\n",
    "    return connection"
   ]
  },
  {
   "cell_type": "code",
   "execution_count": 7,
   "id": "adc1ee5b-43e6-48f4-bc20-894fe70cd8e8",
   "metadata": {},
   "outputs": [
    {
     "name": "stdout",
     "output_type": "stream",
     "text": [
      "Connection to SQLite DB successful\n"
     ]
    }
   ],
   "source": [
    "connection = create_connection(\"data/weather_db.sqlite\")"
   ]
  },
  {
   "cell_type": "code",
   "execution_count": 7,
   "id": "bf4fb44a-36d7-41f3-9783-f6c6a8fff7dc",
   "metadata": {
    "tags": []
   },
   "outputs": [],
   "source": [
    "def execute_query(connection, query):\n",
    "    cursor = connection.cursor()\n",
    "    try:\n",
    "        cursor.execute(query)\n",
    "        connection.commit()\n",
    "        print(\"Query executed successfully\")\n",
    "    except Error as e:\n",
    "        print(f\"The error '{e}' occurred\")"
   ]
  },
  {
   "cell_type": "code",
   "execution_count": 9,
   "id": "c2e1172d-c0a6-485d-9ec1-40c93a732fe3",
   "metadata": {
    "tags": []
   },
   "outputs": [
    {
     "name": "stdout",
     "output_type": "stream",
     "text": [
      "Query executed successfully\n"
     ]
    }
   ],
   "source": [
    "create_users_table = \"\"\"\n",
    "CREATE TABLE IF NOT EXISTS weather (\n",
    "  weather_id INTEGER PRIMARY KEY AUTOINCREMENT,\n",
    "  IATA_code TEXT,\n",
    "  date TEXT,\n",
    "  min_temp INTEGER,\n",
    "  max_temp INTEGER,\n",
    "  avg_temp INTEGER,\n",
    "  total_snow_cm REAL,\n",
    "  windspeed_kmph INTEGER,\n",
    "  precipitation_mm REAL,\n",
    "  humidity INTEGER,\n",
    "  visibility INTEGER,\n",
    "  cloud_cover INTEGER,\n",
    "  heat_index_c INTEGER,\n",
    "  wind_chill_c INTEGER,\n",
    "  wind_gust_kmph INTEGER,\n",
    "  feels_like INTEGER,\n",
    "  weather_description TEXT,\n",
    "  pressure REAL\n",
    ");\n",
    "\"\"\"\n",
    "execute_query(connection, create_users_table)"
   ]
  },
  {
   "cell_type": "code",
   "execution_count": 8,
   "id": "1d0f01e4-205e-4976-a162-97902babbd6b",
   "metadata": {},
   "outputs": [],
   "source": [
    "def insert_records(database, weather_years):\n",
    "    \n",
    "    weather_base = \"\"\"\n",
    "    INSERT INTO\n",
    "      weather (IATA_code, date, min_temp, max_temp, avg_temp, total_snow_cm, windspeed_kmph, precipitation_mm, humidity, visibility, \n",
    "              cloud_cover, heat_index_c, wind_chill_c, wind_gust_kmph, feels_like, weather_description, pressure)\n",
    "    VALUES\n",
    "\n",
    "    \"\"\"\n",
    "    query = weather_base\n",
    "    insert_value = \"(\"\n",
    "\n",
    "    for month in weather_years:\n",
    "        \n",
    "        if insert_value != \"(\":\n",
    "            query += insert_value\n",
    "            query = query[:-2] + \"),\"\n",
    "            insert_value = \"(\"\n",
    "                    \n",
    "        for day in month:\n",
    "            \n",
    "            if insert_value != \"(\":\n",
    "                insert_value = insert_value[:-2] + '''),\n",
    "('''\n",
    "            \n",
    "            for value in day.values():\n",
    "                \n",
    "                insert_value += f\"{value}, \"\n",
    "                \n",
    "                \n",
    "\n",
    "    query += insert_value\n",
    "    query = query[:-2] + \");\"\n",
    "    \n",
    "    execute_query(database, query)\n",
    "    return query"
   ]
  },
  {
   "cell_type": "markdown",
   "id": "bcd3ce9c-6d70-4524-ad27-495dc26ce1fd",
   "metadata": {},
   "source": [
    "# MAIN"
   ]
  },
  {
   "cell_type": "code",
   "execution_count": 28,
   "id": "c2698817-0cd3-4ae8-ab9d-a9a137320f48",
   "metadata": {},
   "outputs": [],
   "source": [
    "IATA_code = 'DTW'\n",
    "# month = 1\n",
    "# year = 2018\n",
    "\n",
    "# res_JSON = wwo_histweather(IATA_code, month, year)\n",
    "# month_weather = wwo_hwparser(res_JSON,IATA_code)\n",
    "weather_years = wwo_years(IATA_code)"
   ]
  },
  {
   "cell_type": "code",
   "execution_count": 29,
   "id": "ecac5029-f3e7-4c7f-8b17-77d0243389f9",
   "metadata": {},
   "outputs": [
    {
     "name": "stdout",
     "output_type": "stream",
     "text": [
      "Query executed successfully\n"
     ]
    }
   ],
   "source": [
    "query = insert_records(connection, weather_years)"
   ]
  }
 ],
 "metadata": {
  "kernelspec": {
   "display_name": "Dsci_ws",
   "language": "python",
   "name": "dsci_ws"
  },
  "language_info": {
   "codemirror_mode": {
    "name": "ipython",
    "version": 3
   },
   "file_extension": ".py",
   "mimetype": "text/x-python",
   "name": "python",
   "nbconvert_exporter": "python",
   "pygments_lexer": "ipython3",
   "version": "3.8.10"
  }
 },
 "nbformat": 4,
 "nbformat_minor": 5
}
